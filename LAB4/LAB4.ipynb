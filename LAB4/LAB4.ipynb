{
 "cells": [
  {
   "cell_type": "code",
   "execution_count": 2,
   "id": "6f472a1e-dc68-4041-9f79-54f49a4c66c9",
   "metadata": {},
   "outputs": [
    {
     "name": "stdout",
     "output_type": "stream",
     "text": [
      "square of 5: 25\n",
      "cube of 3: 27\n",
      "sum of 10 and 15: 25\n"
     ]
    }
   ],
   "source": [
    "#sp-1\n",
    "import operators\n",
    "res1 = operators.square(5)\n",
    "print(\"square of 5:\",res1)\n",
    "res2 = operators.cube(3)\n",
    "print(\"cube of 3:\",res2)\n",
    "res3 = operators.add(10,15)\n",
    "print(\"sum of 10 and 15:\",res3)\n"
   ]
  },
  {
   "cell_type": "code",
   "execution_count": 3,
   "id": "b44da1ee-f531-4ff7-b9cd-74c07f004210",
   "metadata": {},
   "outputs": [
    {
     "name": "stdin",
     "output_type": "stream",
     "text": [
      "Enter no of disks: 4\n"
     ]
    },
    {
     "name": "stdout",
     "output_type": "stream",
     "text": [
      "move disk 1from a to b\n",
      "move disk 2 from a to c\n",
      "move disk 1from b to c\n",
      "move disk 3 from a to b\n",
      "move disk 1from c to a\n",
      "move disk 2 from c to b\n",
      "move disk 1from a to b\n",
      "move disk 4 from a to c\n",
      "move disk 1from b to c\n",
      "move disk 2 from b to a\n",
      "move disk 1from c to a\n",
      "move disk 3 from b to c\n",
      "move disk 1from a to b\n",
      "move disk 2 from a to c\n",
      "move disk 1from b to c\n"
     ]
    }
   ],
   "source": [
    "#SP-2\n",
    "def tower_of_hanoi(n, source, auxiliary, destination):\n",
    "    if n==1:\n",
    "        print(f\"move disk 1from {source} to {destination}\")\n",
    "        return\n",
    "    tower_of_hanoi(n-1,source, destination, auxiliary)\n",
    "    print(f\"move disk {n} from {source} to {destination}\")\n",
    "    tower_of_hanoi(n-1, auxiliary, source, destination)\n",
    "num_disks = int(input(\"Enter no of disks:\"))\n",
    "tower_of_hanoi(num_disks, 'a', 'b', 'c')"
   ]
  },
  {
   "cell_type": "code",
   "execution_count": 5,
   "id": "670a2c26-8933-4aef-8d65-49436bde97a3",
   "metadata": {},
   "outputs": [
    {
     "name": "stdout",
     "output_type": "stream",
     "text": [
      "Script name: C:\\ProgramData\\anaconda3\\Lib\\site-packages\\ipykernel_launcher.py\n",
      "Arguments passed:\n",
      "-f\n",
      "C:\\Users\\admin\\AppData\\Roaming\\jupyter\\runtime\\kernel-b92f3527-761a-4d74-beb9-57f15b9ff922.json\n"
     ]
    }
   ],
   "source": [
    "#EP-1\n",
    "import sys\n",
    "\n",
    "print(\"Script name:\", sys.argv[0])\n",
    "\n",
    "if len(sys.argv) > 1:\n",
    "    print(\"Arguments passed:\")\n",
    "    for arg in sys.argv[1:]:\n",
    "        print(arg)\n",
    "else:\n",
    "    print(\"No arguments passed.\")\n"
   ]
  },
  {
   "cell_type": "code",
   "execution_count": 4,
   "id": "ad7a6392-240a-4c55-bed2-7ad797a37e9e",
   "metadata": {},
   "outputs": [
    {
     "name": "stdout",
     "output_type": "stream",
     "text": [
      "Hello, nikhil!\n"
     ]
    }
   ],
   "source": [
    "#EP-2\n",
    "import my_module\n",
    "print(my_module.greet(\"nikhil\"))\n"
   ]
  },
  {
   "cell_type": "code",
   "execution_count": 6,
   "id": "1ed60009-c22b-482d-b8be-6cd8e42eab6f",
   "metadata": {},
   "outputs": [
    {
     "name": "stdout",
     "output_type": "stream",
     "text": [
      "Hello, nikhil!\n",
      "square of 5: 25\n",
      "cube of 3: 27\n",
      "sum of 10 and 15: 25\n"
     ]
    }
   ],
   "source": [
    "#EP-3\n",
    "import my_module\n",
    "import operators\n",
    "\n",
    "print(my_module.greet(\"nikhil\"))\n",
    "res1 = operators.square(5)\n",
    "print(\"square of 5:\",res1)\n",
    "res2 = operators.cube(3)\n",
    "print(\"cube of 3:\",res2)\n",
    "res3 = operators.add(10,15)\n",
    "print(\"sum of 10 and 15:\",res3)"
   ]
  },
  {
   "cell_type": "code",
   "execution_count": 7,
   "id": "39fdf639-d72a-41f3-9b85-e01c485a0607",
   "metadata": {},
   "outputs": [
    {
     "name": "stdout",
     "output_type": "stream",
     "text": [
      "Original deck:\n",
      "['2 of Hearts', '3 of Hearts', '4 of Hearts', '5 of Hearts', '6 of Hearts', '7 of Hearts', '8 of Hearts', '9 of Hearts', '10 of Hearts', 'J of Hearts', 'Q of Hearts', 'K of Hearts', 'A of Hearts', '2 of Diamonds', '3 of Diamonds', '4 of Diamonds', '5 of Diamonds', '6 of Diamonds', '7 of Diamonds', '8 of Diamonds', '9 of Diamonds', '10 of Diamonds', 'J of Diamonds', 'Q of Diamonds', 'K of Diamonds', 'A of Diamonds', '2 of Clubs', '3 of Clubs', '4 of Clubs', '5 of Clubs', '6 of Clubs', '7 of Clubs', '8 of Clubs', '9 of Clubs', '10 of Clubs', 'J of Clubs', 'Q of Clubs', 'K of Clubs', 'A of Clubs', '2 of Spades', '3 of Spades', '4 of Spades', '5 of Spades', '6 of Spades', '7 of Spades', '8 of Spades', '9 of Spades', '10 of Spades', 'J of Spades', 'Q of Spades', 'K of Spades', 'A of Spades']\n",
      "\n",
      "Shuffled deck:\n",
      "['A of Hearts', '6 of Spades', '7 of Clubs', '3 of Diamonds', '7 of Hearts', '10 of Diamonds', '9 of Diamonds', 'J of Clubs', 'A of Clubs', '8 of Spades', 'K of Diamonds', 'J of Hearts', '8 of Hearts', '9 of Hearts', '5 of Hearts', '2 of Spades', '10 of Clubs', '9 of Spades', 'Q of Diamonds', '4 of Hearts', '5 of Diamonds', '3 of Spades', '7 of Spades', 'J of Diamonds', '5 of Spades', '6 of Hearts', '8 of Diamonds', '6 of Clubs', '2 of Hearts', 'K of Hearts', '10 of Hearts', '7 of Diamonds', 'A of Spades', 'K of Spades', '4 of Clubs', '3 of Clubs', '10 of Spades', 'Q of Clubs', '9 of Clubs', 'Q of Hearts', 'Q of Spades', '2 of Clubs', '6 of Diamonds', '4 of Diamonds', 'A of Diamonds', '4 of Spades', '2 of Diamonds', '3 of Hearts', '8 of Clubs', '5 of Clubs', 'K of Clubs', 'J of Spades']\n"
     ]
    }
   ],
   "source": [
    "#EP-6\n",
    "import random\n",
    "\n",
    "def create_deck():\n",
    "    suits = ['Hearts', 'Diamonds', 'Clubs', 'Spades']\n",
    "    ranks = ['2', '3', '4', '5', '6', '7', '8', '9', '10', 'J', 'Q', 'K', 'A']\n",
    "    deck = [f\"{rank} of {suit}\" for suit in suits for rank in ranks]\n",
    "    return deck\n",
    "\n",
    "def shuffle_deck(deck):\n",
    "    random.shuffle(deck)\n",
    "\n",
    "deck = create_deck()\n",
    "print(\"Original deck:\")\n",
    "print(deck)\n",
    "\n",
    "shuffle_deck(deck)\n",
    "print(\"\\nShuffled deck:\")\n",
    "print(deck)\n",
    "\n"
   ]
  },
  {
   "cell_type": "code",
   "execution_count": 8,
   "id": "e0e8294e-c658-4ba2-a7b6-cf4a49326e69",
   "metadata": {},
   "outputs": [
    {
     "name": "stdout",
     "output_type": "stream",
     "text": [
      "Number of days between 2024-01-01 and 2024-01-31: 30\n"
     ]
    }
   ],
   "source": [
    "#EP-7\n",
    "from datetime import datetime\n",
    "\n",
    "# Function to count days between two dates\n",
    "def count_days_between(date1_str, date2_str, date_format=\"%Y-%m-%d\"):\n",
    "    date1 = datetime.strptime(date1_str, date_format)\n",
    "    date2 = datetime.strptime(date2_str, date_format)\n",
    "    delta = date2 - date1\n",
    "    return abs(delta.days)  # absolute value to avoid negative days\n",
    "\n",
    "# Example usage\n",
    "date1 = \"2024-01-01\"\n",
    "date2 = \"2024-01-31\"\n",
    "\n",
    "days_between = count_days_between(date1, date2)\n",
    "print(f\"Number of days between {date1} and {date2}: {days_between}\")\n"
   ]
  },
  {
   "cell_type": "code",
   "execution_count": 9,
   "id": "22bda58b-04d1-4c2c-ab64-16eeaa5e284d",
   "metadata": {},
   "outputs": [
    {
     "name": "stdout",
     "output_type": "stream",
     "text": [
      "Current date and time: 2025-09-17 11:35:12\n"
     ]
    },
    {
     "name": "stdin",
     "output_type": "stream",
     "text": [
      "Enter year (e.g., 2024):  2025\n",
      "Enter month (1-12):  3\n"
     ]
    },
    {
     "name": "stdout",
     "output_type": "stream",
     "text": [
      "\n",
      "Calendar for March 2025:\n",
      "\n",
      "     March 2025\n",
      "Mo Tu We Th Fr Sa Su\n",
      "                1  2\n",
      " 3  4  5  6  7  8  9\n",
      "10 11 12 13 14 15 16\n",
      "17 18 19 20 21 22 23\n",
      "24 25 26 27 28 29 30\n",
      "31\n",
      "\n"
     ]
    }
   ],
   "source": [
    "#EP-9\n",
    "import datetime\n",
    "import calendar\n",
    "\n",
    "# Display current date and time\n",
    "now = datetime.datetime.now()\n",
    "print(\"Current date and time:\", now.strftime(\"%Y-%m-%d %H:%M:%S\"))\n",
    "\n",
    "# Input month and year\n",
    "year = int(input(\"Enter year (e.g., 2024): \"))\n",
    "month = int(input(\"Enter month (1-12): \"))\n",
    "\n",
    "# Validate month\n",
    "if 1 <= month <= 12:\n",
    "    print(f\"\\nCalendar for {calendar.month_name[month]} {year}:\\n\")\n",
    "    print(calendar.month(year, month))\n",
    "else:\n",
    "    print(\"Invalid month! Please enter a value between 1 and 12.\")\n"
   ]
  },
  {
   "cell_type": "code",
   "execution_count": null,
   "id": "a93aff74-abf5-4d4b-95e0-fe8ed2642880",
   "metadata": {},
   "outputs": [],
   "source": []
  }
 ],
 "metadata": {
  "kernelspec": {
   "display_name": "Python [conda env:base] *",
   "language": "python",
   "name": "conda-base-py"
  },
  "language_info": {
   "codemirror_mode": {
    "name": "ipython",
    "version": 3
   },
   "file_extension": ".py",
   "mimetype": "text/x-python",
   "name": "python",
   "nbconvert_exporter": "python",
   "pygments_lexer": "ipython3",
   "version": "3.13.5"
  }
 },
 "nbformat": 4,
 "nbformat_minor": 5
}
